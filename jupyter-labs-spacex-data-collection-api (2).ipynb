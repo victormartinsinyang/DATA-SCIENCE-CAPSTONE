{
 "cells": [
  {
   "cell_type": "markdown",
   "metadata": {},
   "source": [
    "<p style=\"text-align:center\">\n",
    "    <a href=\"https://skills.network/?utm_medium=Exinfluencer&utm_source=Exinfluencer&utm_content=000026UJ&utm_term=10006555&utm_id=NA-SkillsNetwork-Channel-SkillsNetworkCoursesIBMDS0321ENSkillsNetwork865-2022-01-01\" target=\"_blank\">\n",
    "    <img src=\"https://cf-courses-data.s3.us.cloud-object-storage.appdomain.cloud/assets/logos/SN_web_lightmode.png\" width=\"200\" alt=\"Skills Network Logo\"  />\n",
    "    </a>\n",
    "</p>\n"
   ]
  },
  {
   "cell_type": "markdown",
   "metadata": {},
   "source": [
    "# **SpaceX  Falcon 9 first stage Landing Prediction**\n"
   ]
  },
  {
   "cell_type": "markdown",
   "metadata": {},
   "source": [
    "# Lab 1: Collecting the data\n"
   ]
  },
  {
   "cell_type": "markdown",
   "metadata": {},
   "source": [
    "Estimated time needed: **45** minutes\n"
   ]
  },
  {
   "cell_type": "markdown",
   "metadata": {},
   "source": [
    "In this capstone, we will predict if the Falcon 9 first stage will land successfully. SpaceX advertises Falcon 9 rocket launches on its website with a cost of 62 million dollars; other providers cost upward of 165 million dollars each, much of the savings is because SpaceX can reuse the first stage. Therefore if we can determine if the first stage will land, we can determine the cost of a launch. This information can be used if an alternate company wants to bid against SpaceX for a rocket launch. In this lab, you will collect and make sure the data is in the correct format from an API. The following is an example of a successful and launch.\n"
   ]
  },
  {
   "cell_type": "markdown",
   "metadata": {},
   "source": [
    "![](https://cf-courses-data.s3.us.cloud-object-storage.appdomain.cloud/IBMDeveloperSkillsNetwork-DS0701EN-SkillsNetwork/lab_v2/images/landing_1.gif)\n"
   ]
  },
  {
   "cell_type": "markdown",
   "metadata": {},
   "source": [
    "Several examples of an unsuccessful landing are shown here:\n"
   ]
  },
  {
   "cell_type": "markdown",
   "metadata": {},
   "source": [
    "![](https://cf-courses-data.s3.us.cloud-object-storage.appdomain.cloud/IBMDeveloperSkillsNetwork-DS0701EN-SkillsNetwork/lab_v2/images/crash.gif)\n"
   ]
  },
  {
   "cell_type": "markdown",
   "metadata": {},
   "source": [
    "Most unsuccessful landings are planned. Space X performs a controlled landing in the oceans. \n"
   ]
  },
  {
   "cell_type": "markdown",
   "metadata": {},
   "source": [
    "## Objectives\n"
   ]
  },
  {
   "cell_type": "markdown",
   "metadata": {},
   "source": [
    "In this lab, you will make a get request to the SpaceX API. You will also do some basic data wrangling and formating. \n",
    "\n",
    "- Request to the SpaceX API\n",
    "- Clean the requested data\n"
   ]
  },
  {
   "cell_type": "markdown",
   "metadata": {},
   "source": [
    "----\n"
   ]
  },
  {
   "cell_type": "markdown",
   "metadata": {},
   "source": [
    "## Import Libraries and Define Auxiliary Functions\n"
   ]
  },
  {
   "cell_type": "markdown",
   "metadata": {},
   "source": [
    "We will import the following libraries into the lab\n"
   ]
  },
  {
   "cell_type": "code",
   "execution_count": 31,
   "metadata": {
    "tags": []
   },
   "outputs": [],
   "source": [
    "# Requests allows us to make HTTP requests which we will use to get data from an API\n",
    "import requests\n",
    "# Pandas is a software library written for the Python programming language for data manipulation and analysis.\n",
    "import pandas as pd\n",
    "# NumPy is a library for the Python programming language, adding support for large, multi-dimensional arrays and matrices, along with a large collection of high-level mathematical functions to operate on these arrays\n",
    "import numpy as np\n",
    "# Datetime is a library that allows us to represent dates\n",
    "import datetime\n",
    "\n",
    "# Setting this option will print all collumns of a dataframe\n",
    "pd.set_option('display.max_columns', None)\n",
    "# Setting this option will print all of the data in a feature\n",
    "pd.set_option('display.max_colwidth', None)"
   ]
  },
  {
   "cell_type": "markdown",
   "metadata": {},
   "source": [
    "Below we will define a series of helper functions that will help us use the API to extract information using identification numbers in the launch data.\n",
    "\n",
    "From the <code>rocket</code> column we would like to learn the booster name.\n"
   ]
  },
  {
   "cell_type": "code",
   "execution_count": null,
   "metadata": {},
   "outputs": [],
   "source": [
    "# Takes the dataset and uses the rocket column to call the API and append the data to the list\n",
    "def getBoosterVersion(data):\n",
    "    for x in data['rocket']:\n",
    "       if x:\n",
    "        response = requests.get(\"https://api.spacexdata.com/v4/rockets/\"+str(x)).json()\n",
    "        BoosterVersion.append(response['name'])"
   ]
  },
  {
   "cell_type": "markdown",
   "metadata": {},
   "source": [
    "From the <code>launchpad</code> we would like to know the name of the launch site being used, the logitude, and the latitude.\n"
   ]
  },
  {
   "cell_type": "code",
   "execution_count": 1,
   "metadata": {
    "tags": []
   },
   "outputs": [],
   "source": [
    "# Takes the dataset and uses the launchpad column to call the API and append the data to the list\n",
    "def getLaunchSite(data):\n",
    "    for x in data['launchpad']:\n",
    "       if x:\n",
    "         response = requests.get(\"https://api.spacexdata.com/v4/launchpads/\"+str(x)).json()\n",
    "         Longitude.append(response['longitude'])\n",
    "         Latitude.append(response['latitude'])\n",
    "         LaunchSite.append(response['name'])"
   ]
  },
  {
   "cell_type": "markdown",
   "metadata": {},
   "source": [
    "From the <code>payload</code> we would like to learn the mass of the payload and the orbit that it is going to.\n"
   ]
  },
  {
   "cell_type": "code",
   "execution_count": 2,
   "metadata": {
    "tags": []
   },
   "outputs": [],
   "source": [
    "# Takes the dataset and uses the payloads column to call the API and append the data to the lists\n",
    "def getPayloadData(data):\n",
    "    for load in data['payloads']:\n",
    "       if load:\n",
    "        response = requests.get(\"https://api.spacexdata.com/v4/payloads/\"+load).json()\n",
    "        PayloadMass.append(response['mass_kg'])\n",
    "        Orbit.append(response['orbit'])"
   ]
  },
  {
   "cell_type": "markdown",
   "metadata": {},
   "source": [
    "From <code>cores</code> we would like to learn the outcome of the landing, the type of the landing, number of flights with that core, whether gridfins were used, wheter the core is reused, wheter legs were used, the landing pad used, the block of the core which is a number used to seperate version of cores, the number of times this specific core has been reused, and the serial of the core.\n"
   ]
  },
  {
   "cell_type": "code",
   "execution_count": 3,
   "metadata": {
    "tags": []
   },
   "outputs": [],
   "source": [
    "# Takes the dataset and uses the cores column to call the API and append the data to the lists\n",
    "def getCoreData(data):\n",
    "    for core in data['cores']:\n",
    "            if core['core'] != None:\n",
    "                response = requests.get(\"https://api.spacexdata.com/v4/cores/\"+core['core']).json()\n",
    "                Block.append(response['block'])\n",
    "                ReusedCount.append(response['reuse_count'])\n",
    "                Serial.append(response['serial'])\n",
    "            else:\n",
    "                Block.append(None)\n",
    "                ReusedCount.append(None)\n",
    "                Serial.append(None)\n",
    "            Outcome.append(str(core['landing_success'])+' '+str(core['landing_type']))\n",
    "            Flights.append(core['flight'])\n",
    "            GridFins.append(core['gridfins'])\n",
    "            Reused.append(core['reused'])\n",
    "            Legs.append(core['legs'])\n",
    "            LandingPad.append(core['landpad'])"
   ]
  },
  {
   "cell_type": "markdown",
   "metadata": {},
   "source": [
    "Now let's start requesting rocket launch data from SpaceX API with the following URL:\n"
   ]
  },
  {
   "cell_type": "code",
   "execution_count": null,
   "metadata": {},
   "outputs": [],
   "source": [
    "spacex_url=\"https://api.spacexdata.com/v4/launches/past\""
   ]
  },
  {
   "cell_type": "code",
   "execution_count": null,
   "metadata": {},
   "outputs": [],
   "source": [
    "response = requests.get(spacex_url)"
   ]
  },
  {
   "cell_type": "markdown",
   "metadata": {},
   "source": [
    "Check the content of the response\n"
   ]
  },
  {
   "cell_type": "code",
   "execution_count": null,
   "metadata": {},
   "outputs": [],
   "source": [
    "print(response.content)"
   ]
  },
  {
   "cell_type": "markdown",
   "metadata": {},
   "source": [
    "You should see the response contains massive information about SpaceX launches. Next, let's try to discover some more relevant information for this project.\n"
   ]
  },
  {
   "cell_type": "markdown",
   "metadata": {},
   "source": [
    "### Task 1: Request and parse the SpaceX launch data using the GET request\n"
   ]
  },
  {
   "cell_type": "markdown",
   "metadata": {},
   "source": [
    "To make the requested JSON results more consistent, we will use the following static response object for this project:\n"
   ]
  },
  {
   "cell_type": "code",
   "execution_count": null,
   "metadata": {},
   "outputs": [],
   "source": [
    "static_json_url='https://cf-courses-data.s3.us.cloud-object-storage.appdomain.cloud/IBM-DS0321EN-SkillsNetwork/datasets/API_call_spacex_api.json'"
   ]
  },
  {
   "cell_type": "markdown",
   "metadata": {},
   "source": [
    "We should see that the request was successfull with the 200 status response code\n"
   ]
  },
  {
   "cell_type": "code",
   "execution_count": 4,
   "metadata": {
    "tags": []
   },
   "outputs": [
    {
     "name": "stdout",
     "output_type": "stream",
     "text": [
      "The request was successful with status code 200.\n"
     ]
    },
    {
     "data": {
      "text/plain": [
       "200"
      ]
     },
     "execution_count": 4,
     "metadata": {},
     "output_type": "execute_result"
    }
   ],
   "source": [
    "import requests\n",
    "\n",
    "# URL of the JSON API\n",
    "static_json_url = 'https://cf-courses-data.s3.us.cloud-object-storage.appdomain.cloud/IBM-DS0321EN-SkillsNetwork/datasets/API_call_spacex_api.json'\n",
    "\n",
    "# Send an HTTP GET request to the URL\n",
    "response = requests.get(static_json_url)\n",
    "\n",
    "# Check if the request was successful (status code 200)\n",
    "if response.status_code == 200:\n",
    "    print(\"The request was successful with status code 200.\")\n",
    "else:\n",
    "    print(f\"The request failed with status code {response.status_code}.\")\n",
    "response.status_code"
   ]
  },
  {
   "cell_type": "markdown",
   "metadata": {},
   "source": [
    "Now we decode the response content as a Json using <code>.json()</code> and turn it into a Pandas dataframe using <code>.json_normalize()</code>\n"
   ]
  },
  {
   "cell_type": "code",
   "execution_count": 5,
   "metadata": {
    "tags": []
   },
   "outputs": [
    {
     "name": "stdout",
     "output_type": "stream",
     "text": [
      "The request was successful with status code 200.\n",
      "         static_fire_date_utc  static_fire_date_unix    tbd    net  window  \\\n",
      "0    2006-03-17T00:00:00.000Z           1.142554e+09  False  False     0.0   \n",
      "1                        None                    NaN  False  False     0.0   \n",
      "2                        None                    NaN  False  False     0.0   \n",
      "3    2008-09-20T00:00:00.000Z           1.221869e+09  False  False     0.0   \n",
      "4                        None                    NaN  False  False     0.0   \n",
      "..                        ...                    ...    ...    ...     ...   \n",
      "102                      None                    NaN  False  False     0.0   \n",
      "103  2020-10-17T05:23:00.000Z           1.602912e+09  False  False     NaN   \n",
      "104  2020-10-21T12:55:00.000Z           1.603285e+09  False  False     NaN   \n",
      "105  2020-09-25T05:42:00.000Z           1.601013e+09  False  False     NaN   \n",
      "106  2020-11-11T16:17:00.000Z           1.605111e+09  False  False     NaN   \n",
      "\n",
      "                       rocket  success  \\\n",
      "0    5e9d0d95eda69955f709d1eb    False   \n",
      "1    5e9d0d95eda69955f709d1eb    False   \n",
      "2    5e9d0d95eda69955f709d1eb    False   \n",
      "3    5e9d0d95eda69955f709d1eb     True   \n",
      "4    5e9d0d95eda69955f709d1eb     True   \n",
      "..                        ...      ...   \n",
      "102  5e9d0d95eda69973a809d1ec     True   \n",
      "103  5e9d0d95eda69973a809d1ec     True   \n",
      "104  5e9d0d95eda69973a809d1ec     True   \n",
      "105  5e9d0d95eda69973a809d1ec     True   \n",
      "106  5e9d0d95eda69973a809d1ec     True   \n",
      "\n",
      "                                               details  \\\n",
      "0     Engine failure at 33 seconds and loss of vehicle   \n",
      "1    Successful first stage burn and transition to ...   \n",
      "2    Residual stage 1 thrust led to collision betwe...   \n",
      "3    Ratsat was carried to orbit on the first succe...   \n",
      "4                                                 None   \n",
      "..                                                 ...   \n",
      "102  This mission will launch the twelfth batch of ...   \n",
      "103  This mission will launch the thirteenth batch ...   \n",
      "104  This mission will launch the fourteenth batch ...   \n",
      "105  SpaceX will launch GPS Block III Space Vehicle...   \n",
      "106  SpaceX will launch the first operational missi...   \n",
      "\n",
      "                                                  crew  \\\n",
      "0                                                   []   \n",
      "1                                                   []   \n",
      "2                                                   []   \n",
      "3                                                   []   \n",
      "4                                                   []   \n",
      "..                                                 ...   \n",
      "102                                                 []   \n",
      "103                                                 []   \n",
      "104                                                 []   \n",
      "105                                                 []   \n",
      "106  [5f7f1543bf32c864a529b23e, 5f7f158bbf32c864a52...   \n",
      "\n",
      "                                                 ships  ...  \\\n",
      "0                                                   []  ...   \n",
      "1                                                   []  ...   \n",
      "2                                                   []  ...   \n",
      "3                                                   []  ...   \n",
      "4                                                   []  ...   \n",
      "..                                                 ...  ...   \n",
      "102  [5ea6ed2f080df4000697c90b, 5ea6ed2f080df400069...  ...   \n",
      "103  [5ea6ed30080df4000697c913, 5ea6ed2f080df400069...  ...   \n",
      "104  [5ea6ed2f080df4000697c910, 5ea6ed2f080df400069...  ...   \n",
      "105  [5ea6ed30080df4000697c913, 5ee68c683c228f36bd5...  ...   \n",
      "106  [5ea6ed2f080df4000697c910, 5ee68c683c228f36bd5...  ...   \n",
      "\n",
      "                                    links.reddit.media  \\\n",
      "0                                                 None   \n",
      "1                                                 None   \n",
      "2                                                 None   \n",
      "3                                                 None   \n",
      "4                                                 None   \n",
      "..                                                 ...   \n",
      "102  https://www.reddit.com/r/spacex/comments/iudif...   \n",
      "103  https://www.reddit.com/r/spacex/comments/jdgsm...   \n",
      "104  https://www.reddit.com/r/spacex/comments/jhcwu...   \n",
      "105                                               None   \n",
      "106  https://www.reddit.com/r/spacex/comments/judv0...   \n",
      "\n",
      "                                 links.reddit.recovery links.flickr.small  \\\n",
      "0                                                 None                 []   \n",
      "1                                                 None                 []   \n",
      "2                                                 None                 []   \n",
      "3                                                 None                 []   \n",
      "4                                                 None                 []   \n",
      "..                                                 ...                ...   \n",
      "102                                               None                 []   \n",
      "103  https://www.reddit.com/r/spacex/comments/jdgpg...                 []   \n",
      "104                                               None                 []   \n",
      "105                                               None                 []   \n",
      "106                                               None                 []   \n",
      "\n",
      "                                 links.flickr.original  \\\n",
      "0                                                   []   \n",
      "1                                                   []   \n",
      "2                                                   []   \n",
      "3                                                   []   \n",
      "4                                                   []   \n",
      "..                                                 ...   \n",
      "102  [https://live.staticflickr.com/65535/504282283...   \n",
      "103  [https://live.staticflickr.com/65535/505008049...   \n",
      "104                                                 []   \n",
      "105                                                 []   \n",
      "106                                                 []   \n",
      "\n",
      "                                        links.presskit  \\\n",
      "0                                                 None   \n",
      "1                                                 None   \n",
      "2                                                 None   \n",
      "3                                                 None   \n",
      "4    http://www.spacex.com/press/2012/12/19/spacexs...   \n",
      "..                                                 ...   \n",
      "102                                               None   \n",
      "103                                               None   \n",
      "104                                               None   \n",
      "105                                               None   \n",
      "106                                               None   \n",
      "\n",
      "                                   links.webcast links.youtube_id  \\\n",
      "0    https://www.youtube.com/watch?v=0a_00nJ_Y88      0a_00nJ_Y88   \n",
      "1    https://www.youtube.com/watch?v=Lk4zQ2wP-Nc      Lk4zQ2wP-Nc   \n",
      "2    https://www.youtube.com/watch?v=v0w9p3U8860      v0w9p3U8860   \n",
      "3    https://www.youtube.com/watch?v=dLQ2tZEH6G0      dLQ2tZEH6G0   \n",
      "4    https://www.youtube.com/watch?v=yTaIDooc8Og      yTaIDooc8Og   \n",
      "..                                           ...              ...   \n",
      "102                 https://youtu.be/UZkaE_9zwQQ      UZkaE_9zwQQ   \n",
      "103                 https://youtu.be/UM8CDDAmp98      UM8CDDAmp98   \n",
      "104                 https://youtu.be/2gbVgTxLgN0      2gbVgTxLgN0   \n",
      "105                 https://youtu.be/wufXF5YKR1M      wufXF5YKR1M   \n",
      "106                 https://youtu.be/bnChQbxLkkI      bnChQbxLkkI   \n",
      "\n",
      "                                         links.article  \\\n",
      "0    https://www.space.com/2196-spacex-inaugural-fa...   \n",
      "1    https://www.space.com/3590-spacex-falcon-1-roc...   \n",
      "2    http://www.spacex.com/news/2013/02/11/falcon-1...   \n",
      "3                 https://en.wikipedia.org/wiki/Ratsat   \n",
      "4    http://www.spacex.com/news/2013/02/12/falcon-1...   \n",
      "..                                                 ...   \n",
      "102                                               None   \n",
      "103  https://spaceflightnow.com/2020/10/18/spacex-l...   \n",
      "104  https://spaceflightnow.com/2020/10/24/spacex-a...   \n",
      "105  https://spaceflightnow.com/2020/11/06/spacex-l...   \n",
      "106                                               None   \n",
      "\n",
      "                                       links.wikipedia fairings  \n",
      "0                https://en.wikipedia.org/wiki/DemoSat      NaN  \n",
      "1                https://en.wikipedia.org/wiki/DemoSat      NaN  \n",
      "2    https://en.wikipedia.org/wiki/Trailblazer_(sat...      NaN  \n",
      "3                 https://en.wikipedia.org/wiki/Ratsat      NaN  \n",
      "4               https://en.wikipedia.org/wiki/RazakSAT      NaN  \n",
      "..                                                 ...      ...  \n",
      "102             https://en.wikipedia.org/wiki/Starlink      NaN  \n",
      "103             https://en.wikipedia.org/wiki/Starlink      NaN  \n",
      "104             https://en.wikipedia.org/wiki/Starlink      NaN  \n",
      "105        https://en.wikipedia.org/wiki/GPS_Block_III      NaN  \n",
      "106        https://en.wikipedia.org/wiki/SpaceX_Crew-1      NaN  \n",
      "\n",
      "[107 rows x 42 columns]\n"
     ]
    }
   ],
   "source": [
    "# Use json_normalize meethod to convert the json result into a dataframe\n",
    "import requests\n",
    "import pandas as pd\n",
    "\n",
    "# URL of the JSON API\n",
    "static_json_url = 'https://cf-courses-data.s3.us.cloud-object-storage.appdomain.cloud/IBM-DS0321EN-SkillsNetwork/datasets/API_call_spacex_api.json'\n",
    "\n",
    "# Send an HTTP GET request to the URL\n",
    "response = requests.get(static_json_url)\n",
    "\n",
    "# Check if the request was successful (status code 200)\n",
    "if response.status_code == 200:\n",
    "    print(\"The request was successful with status code 200.\")\n",
    "    \n",
    "    # Decode the response content as JSON\n",
    "    json_data = response.json()\n",
    "    \n",
    "    # Convert JSON data to a pandas DataFrame using json_normalize\n",
    "    df = pd.json_normalize(json_data)\n",
    "    \n",
    "    # Display the DataFrame\n",
    "    print(df)\n",
    "    \n",
    "else:\n",
    "    print(f\"The request failed with status code {response.status_code}.\")\n"
   ]
  },
  {
   "cell_type": "markdown",
   "metadata": {},
   "source": [
    "Using the dataframe <code>data</code> print the first 5 rows\n"
   ]
  },
  {
   "cell_type": "code",
   "execution_count": 8,
   "metadata": {
    "tags": []
   },
   "outputs": [
    {
     "name": "stdout",
     "output_type": "stream",
     "text": [
      "The request was successful with status code 200.\n",
      "       static_fire_date_utc  static_fire_date_unix    tbd    net  window  \\\n",
      "0  2006-03-17T00:00:00.000Z           1.142554e+09  False  False     0.0   \n",
      "1                      None                    NaN  False  False     0.0   \n",
      "2                      None                    NaN  False  False     0.0   \n",
      "3  2008-09-20T00:00:00.000Z           1.221869e+09  False  False     0.0   \n",
      "4                      None                    NaN  False  False     0.0   \n",
      "\n",
      "                     rocket  success  \\\n",
      "0  5e9d0d95eda69955f709d1eb    False   \n",
      "1  5e9d0d95eda69955f709d1eb    False   \n",
      "2  5e9d0d95eda69955f709d1eb    False   \n",
      "3  5e9d0d95eda69955f709d1eb     True   \n",
      "4  5e9d0d95eda69955f709d1eb     True   \n",
      "\n",
      "                                             details crew ships  ...  \\\n",
      "0   Engine failure at 33 seconds and loss of vehicle   []    []  ...   \n",
      "1  Successful first stage burn and transition to ...   []    []  ...   \n",
      "2  Residual stage 1 thrust led to collision betwe...   []    []  ...   \n",
      "3  Ratsat was carried to orbit on the first succe...   []    []  ...   \n",
      "4                                               None   []    []  ...   \n",
      "\n",
      "  links.reddit.media links.reddit.recovery links.flickr.small  \\\n",
      "0               None                  None                 []   \n",
      "1               None                  None                 []   \n",
      "2               None                  None                 []   \n",
      "3               None                  None                 []   \n",
      "4               None                  None                 []   \n",
      "\n",
      "   links.flickr.original                                     links.presskit  \\\n",
      "0                     []                                               None   \n",
      "1                     []                                               None   \n",
      "2                     []                                               None   \n",
      "3                     []                                               None   \n",
      "4                     []  http://www.spacex.com/press/2012/12/19/spacexs...   \n",
      "\n",
      "                                 links.webcast links.youtube_id  \\\n",
      "0  https://www.youtube.com/watch?v=0a_00nJ_Y88      0a_00nJ_Y88   \n",
      "1  https://www.youtube.com/watch?v=Lk4zQ2wP-Nc      Lk4zQ2wP-Nc   \n",
      "2  https://www.youtube.com/watch?v=v0w9p3U8860      v0w9p3U8860   \n",
      "3  https://www.youtube.com/watch?v=dLQ2tZEH6G0      dLQ2tZEH6G0   \n",
      "4  https://www.youtube.com/watch?v=yTaIDooc8Og      yTaIDooc8Og   \n",
      "\n",
      "                                       links.article  \\\n",
      "0  https://www.space.com/2196-spacex-inaugural-fa...   \n",
      "1  https://www.space.com/3590-spacex-falcon-1-roc...   \n",
      "2  http://www.spacex.com/news/2013/02/11/falcon-1...   \n",
      "3               https://en.wikipedia.org/wiki/Ratsat   \n",
      "4  http://www.spacex.com/news/2013/02/12/falcon-1...   \n",
      "\n",
      "                                     links.wikipedia fairings  \n",
      "0              https://en.wikipedia.org/wiki/DemoSat      NaN  \n",
      "1              https://en.wikipedia.org/wiki/DemoSat      NaN  \n",
      "2  https://en.wikipedia.org/wiki/Trailblazer_(sat...      NaN  \n",
      "3               https://en.wikipedia.org/wiki/Ratsat      NaN  \n",
      "4             https://en.wikipedia.org/wiki/RazakSAT      NaN  \n",
      "\n",
      "[5 rows x 42 columns]\n"
     ]
    }
   ],
   "source": [
    "import requests\n",
    "import pandas as pd\n",
    "\n",
    "# URL of the JSON API\n",
    "static_json_url = 'https://cf-courses-data.s3.us.cloud-object-storage.appdomain.cloud/IBM-DS0321EN-SkillsNetwork/datasets/API_call_spacex_api.json'\n",
    "\n",
    "# Send an HTTP GET request to the URL\n",
    "response = requests.get(static_json_url)\n",
    "\n",
    "# Check if the request was successful (status code 200)\n",
    "if response.status_code == 200:\n",
    "    print(\"The request was successful with status code 200.\")\n",
    "    \n",
    "    # Decode the response content as JSON\n",
    "    json_data = response.json()\n",
    "    \n",
    "    # Convert JSON data to a pandas DataFrame using json_normalize\n",
    "    df = pd.json_normalize(json_data)\n",
    "    \n",
    "    # Print the first 5 rows of the DataFrame\n",
    "    print(df.head())\n",
    "    \n",
    "else:\n",
    "    print(f\"The request failed with status code {response.status_code}.\")\n",
    "\n"
   ]
  },
  {
   "cell_type": "markdown",
   "metadata": {},
   "source": [
    "You will notice that a lot of the data are IDs. For example the rocket column has no information about the rocket just an identification number.\n",
    "\n",
    "We will now use the API again to get information about the launches using the IDs given for each launch. Specifically we will be using columns <code>rocket</code>, <code>payloads</code>, <code>launchpad</code>, and <code>cores</code>.\n"
   ]
  },
  {
   "cell_type": "code",
   "execution_count": 11,
   "metadata": {
    "tags": []
   },
   "outputs": [
    {
     "name": "stdout",
     "output_type": "stream",
     "text": [
      "        rocket      payloads       launchpad      cores\n",
      "0  rocket_id_1  payload_id_1  launchpad_id_1  core_id_1\n",
      "1  rocket_id_2  payload_id_2  launchpad_id_2  core_id_2\n"
     ]
    }
   ],
   "source": [
    "\n",
    "import pandas as pd\n",
    "\n",
    "# Example data for demonstration\n",
    "data_dict = {\n",
    "    'rocket': ['rocket_id_1', 'rocket_id_2'],\n",
    "    'payloads': ['payload_id_1', 'payload_id_2'],\n",
    "    'launchpad': ['launchpad_id_1', 'launchpad_id_2'],\n",
    "    'cores': ['core_id_1', 'core_id_2']\n",
    "}\n",
    "\n",
    "# Create DataFrame\n",
    "data = pd.DataFrame(data_dict)\n",
    "\n",
    "# Print the DataFrame to verify the content\n",
    "print(data)\n",
    "\n"
   ]
  },
  {
   "cell_type": "markdown",
   "metadata": {},
   "source": [
    "* From the <code>rocket</code> we would like to learn the booster name\n",
    "\n",
    "* From the <code>payload</code> we would like to learn the mass of the payload and the orbit that it is going to\n",
    "\n",
    "* From the <code>launchpad</code> we would like to know the name of the launch site being used, the longitude, and the latitude.\n",
    "\n",
    "* From <code>cores</code> we would like to learn the outcome of the landing, the type of the landing, number of flights with that core, whether gridfins were used, whether the core is reused, whether legs were used, the landing pad used, the block of the core which is a number used to seperate version of cores, the number of times this specific core has been reused, and the serial of the core.\n",
    "\n",
    "The data from these requests will be stored in lists and will be used to create a new dataframe.\n"
   ]
  },
  {
   "cell_type": "code",
   "execution_count": 12,
   "metadata": {
    "tags": []
   },
   "outputs": [],
   "source": [
    "#Global variables \n",
    "BoosterVersion = []\n",
    "PayloadMass = []\n",
    "Orbit = []\n",
    "LaunchSite = []\n",
    "Outcome = []\n",
    "Flights = []\n",
    "GridFins = []\n",
    "Reused = []\n",
    "Legs = []\n",
    "LandingPad = []\n",
    "Block = []\n",
    "ReusedCount = []\n",
    "Serial = []\n",
    "Longitude = []\n",
    "Latitude = []"
   ]
  },
  {
   "cell_type": "markdown",
   "metadata": {},
   "source": [
    "These functions will apply the outputs globally to the above variables. Let's take a looks at <code>BoosterVersion</code> variable. Before we apply  <code>getBoosterVersion</code> the list is empty:\n"
   ]
  },
  {
   "cell_type": "code",
   "execution_count": null,
   "metadata": {},
   "outputs": [],
   "source": [
    "BoosterVersion"
   ]
  },
  {
   "cell_type": "markdown",
   "metadata": {},
   "source": [
    "Now, let's apply <code> getBoosterVersion</code> function method to get the booster version\n"
   ]
  },
  {
   "cell_type": "code",
   "execution_count": 14,
   "metadata": {
    "tags": []
   },
   "outputs": [],
   "source": [
    "import requests\n",
    "\n",
    "# Function to fetch booster version information using API\n",
    "def getBoosterVersion(booster_id):\n",
    "    url = f\"https://api.spacexdata.com/v4/rockets/{booster_id}\"\n",
    "    response = requests.get(url)\n",
    "    if response.status_code == 200:\n",
    "        booster_info = response.json()\n",
    "        return booster_info['name']\n",
    "    else:\n",
    "        return None\n",
    "\n",
    "# Iterate over each row in the DataFrame\n",
    "for index, row in data.iterrows():\n",
    "    # Fetch booster version for each launch\n",
    "    rocket_id = row['rocket']\n",
    "    booster_version = getBoosterVersion(rocket_id)\n",
    "    \n",
    "    # Update the DataFrame with booster version information\n",
    "    data.at[index, 'booster_version'] = booster_version\n",
    "\n",
    "# Now the 'data' DataFrame contains the booster version information\n"
   ]
  },
  {
   "cell_type": "markdown",
   "metadata": {},
   "source": [
    "the list has now been update \n"
   ]
  },
  {
   "cell_type": "code",
   "execution_count": null,
   "metadata": {},
   "outputs": [],
   "source": [
    "BoosterVersion[0:5]"
   ]
  },
  {
   "cell_type": "markdown",
   "metadata": {},
   "source": [
    "we can apply the rest of the  functions here:\n"
   ]
  },
  {
   "cell_type": "code",
   "execution_count": 16,
   "metadata": {
    "tags": []
   },
   "outputs": [],
   "source": [
    "import requests\n",
    "\n",
    "# Function to fetch launch site information using API\n",
    "def getLaunchSite(site_id):\n",
    "    url = f\"https://api.spacexdata.com/v4/launchpads/{site_id}\"\n",
    "    response = requests.get(url)\n",
    "    if response.status_code == 200:\n",
    "        site_info = response.json()\n",
    "        return site_info['name']\n",
    "    else:\n",
    "        return None\n",
    "\n",
    "# Call getLaunchSite\n",
    "def call_getLaunchSite(data):\n",
    "    # Iterate over each row in the DataFrame\n",
    "    for index, row in data.iterrows():\n",
    "        # Fetch launch site for each launch\n",
    "        site_id = row['launchpad']\n",
    "        launch_site = getLaunchSite(site_id)\n",
    "        \n",
    "        # Update the DataFrame with launch site information\n",
    "        data.at[index, 'launch_site'] = launch_site\n",
    "\n",
    "    return data\n",
    "\n",
    "# Call the function to fetch launch site information\n",
    "data_with_launch_site = call_getLaunchSite(data)\n"
   ]
  },
  {
   "cell_type": "code",
   "execution_count": 17,
   "metadata": {
    "tags": []
   },
   "outputs": [],
   "source": [
    "# Define the getPayloadData function\n",
    "def getPayloadData(data):\n",
    "    # Your implementation here\n",
    "    pass\n",
    "\n",
    "# Call the getPayloadData function\n",
    "getPayloadData(data)\n"
   ]
  },
  {
   "cell_type": "code",
   "execution_count": 18,
   "metadata": {
    "tags": []
   },
   "outputs": [],
   "source": [
    "# Define the getCoreData function\n",
    "def getCoreData(data):\n",
    "    # Your implementation here\n",
    "    pass\n",
    "\n",
    "# Call the getCoreData function\n",
    "getCoreData(data)\n"
   ]
  },
  {
   "cell_type": "markdown",
   "metadata": {},
   "source": [
    "Finally lets construct our dataset using the data we have obtained. We we combine the columns into a dictionary.\n"
   ]
  },
  {
   "cell_type": "code",
   "execution_count": 23,
   "metadata": {
    "tags": []
   },
   "outputs": [
    {
     "ename": "KeyError",
     "evalue": "'flight_number'",
     "output_type": "error",
     "traceback": [
      "\u001b[0;31m---------------------------------------------------------------------------\u001b[0m",
      "\u001b[0;31mKeyError\u001b[0m                                  Traceback (most recent call last)",
      "\u001b[0;32m~/conda/envs/python/lib/python3.7/site-packages/pandas/core/indexes/base.py\u001b[0m in \u001b[0;36mget_loc\u001b[0;34m(self, key, method, tolerance)\u001b[0m\n\u001b[1;32m   3360\u001b[0m             \u001b[0;32mtry\u001b[0m\u001b[0;34m:\u001b[0m\u001b[0;34m\u001b[0m\u001b[0;34m\u001b[0m\u001b[0m\n\u001b[0;32m-> 3361\u001b[0;31m                 \u001b[0;32mreturn\u001b[0m \u001b[0mself\u001b[0m\u001b[0;34m.\u001b[0m\u001b[0m_engine\u001b[0m\u001b[0;34m.\u001b[0m\u001b[0mget_loc\u001b[0m\u001b[0;34m(\u001b[0m\u001b[0mcasted_key\u001b[0m\u001b[0;34m)\u001b[0m\u001b[0;34m\u001b[0m\u001b[0;34m\u001b[0m\u001b[0m\n\u001b[0m\u001b[1;32m   3362\u001b[0m             \u001b[0;32mexcept\u001b[0m \u001b[0mKeyError\u001b[0m \u001b[0;32mas\u001b[0m \u001b[0merr\u001b[0m\u001b[0;34m:\u001b[0m\u001b[0;34m\u001b[0m\u001b[0;34m\u001b[0m\u001b[0m\n",
      "\u001b[0;32m~/conda/envs/python/lib/python3.7/site-packages/pandas/_libs/index.pyx\u001b[0m in \u001b[0;36mpandas._libs.index.IndexEngine.get_loc\u001b[0;34m()\u001b[0m\n",
      "\u001b[0;32m~/conda/envs/python/lib/python3.7/site-packages/pandas/_libs/index.pyx\u001b[0m in \u001b[0;36mpandas._libs.index.IndexEngine.get_loc\u001b[0;34m()\u001b[0m\n",
      "\u001b[0;32mpandas/_libs/hashtable_class_helper.pxi\u001b[0m in \u001b[0;36mpandas._libs.hashtable.PyObjectHashTable.get_item\u001b[0;34m()\u001b[0m\n",
      "\u001b[0;32mpandas/_libs/hashtable_class_helper.pxi\u001b[0m in \u001b[0;36mpandas._libs.hashtable.PyObjectHashTable.get_item\u001b[0;34m()\u001b[0m\n",
      "\u001b[0;31mKeyError\u001b[0m: 'flight_number'",
      "\nThe above exception was the direct cause of the following exception:\n",
      "\u001b[0;31mKeyError\u001b[0m                                  Traceback (most recent call last)",
      "\u001b[0;32m/tmp/ipykernel_68/1188624758.py\u001b[0m in \u001b[0;36m<module>\u001b[0;34m\u001b[0m\n\u001b[1;32m      1\u001b[0m \u001b[0;31m# Construct the launch_dict\u001b[0m\u001b[0;34m\u001b[0m\u001b[0;34m\u001b[0m\u001b[0;34m\u001b[0m\u001b[0m\n\u001b[1;32m      2\u001b[0m launch_dict = {\n\u001b[0;32m----> 3\u001b[0;31m     \u001b[0;34m'FlightNumber'\u001b[0m\u001b[0;34m:\u001b[0m \u001b[0mlist\u001b[0m\u001b[0;34m(\u001b[0m\u001b[0mdata\u001b[0m\u001b[0;34m[\u001b[0m\u001b[0;34m'flight_number'\u001b[0m\u001b[0;34m]\u001b[0m\u001b[0;34m)\u001b[0m\u001b[0;34m,\u001b[0m  \u001b[0;31m# Replace 'flight_number' with the actual column name in your DataFrame\u001b[0m\u001b[0;34m\u001b[0m\u001b[0;34m\u001b[0m\u001b[0m\n\u001b[0m\u001b[1;32m      4\u001b[0m     \u001b[0;34m'Date'\u001b[0m\u001b[0;34m:\u001b[0m \u001b[0mlist\u001b[0m\u001b[0;34m(\u001b[0m\u001b[0mdata\u001b[0m\u001b[0;34m[\u001b[0m\u001b[0;34m'date'\u001b[0m\u001b[0;34m]\u001b[0m\u001b[0;34m)\u001b[0m\u001b[0;34m,\u001b[0m\u001b[0;34m\u001b[0m\u001b[0;34m\u001b[0m\u001b[0m\n\u001b[1;32m      5\u001b[0m     \u001b[0;34m'BoosterVersion'\u001b[0m\u001b[0;34m:\u001b[0m \u001b[0mBoosterVersion\u001b[0m\u001b[0;34m,\u001b[0m  \u001b[0;31m# Replace 'BoosterVersion' with the actual data for booster version\u001b[0m\u001b[0;34m\u001b[0m\u001b[0;34m\u001b[0m\u001b[0m\n",
      "\u001b[0;32m~/conda/envs/python/lib/python3.7/site-packages/pandas/core/frame.py\u001b[0m in \u001b[0;36m__getitem__\u001b[0;34m(self, key)\u001b[0m\n\u001b[1;32m   3456\u001b[0m             \u001b[0;32mif\u001b[0m \u001b[0mself\u001b[0m\u001b[0;34m.\u001b[0m\u001b[0mcolumns\u001b[0m\u001b[0;34m.\u001b[0m\u001b[0mnlevels\u001b[0m \u001b[0;34m>\u001b[0m \u001b[0;36m1\u001b[0m\u001b[0;34m:\u001b[0m\u001b[0;34m\u001b[0m\u001b[0;34m\u001b[0m\u001b[0m\n\u001b[1;32m   3457\u001b[0m                 \u001b[0;32mreturn\u001b[0m \u001b[0mself\u001b[0m\u001b[0;34m.\u001b[0m\u001b[0m_getitem_multilevel\u001b[0m\u001b[0;34m(\u001b[0m\u001b[0mkey\u001b[0m\u001b[0;34m)\u001b[0m\u001b[0;34m\u001b[0m\u001b[0;34m\u001b[0m\u001b[0m\n\u001b[0;32m-> 3458\u001b[0;31m             \u001b[0mindexer\u001b[0m \u001b[0;34m=\u001b[0m \u001b[0mself\u001b[0m\u001b[0;34m.\u001b[0m\u001b[0mcolumns\u001b[0m\u001b[0;34m.\u001b[0m\u001b[0mget_loc\u001b[0m\u001b[0;34m(\u001b[0m\u001b[0mkey\u001b[0m\u001b[0;34m)\u001b[0m\u001b[0;34m\u001b[0m\u001b[0;34m\u001b[0m\u001b[0m\n\u001b[0m\u001b[1;32m   3459\u001b[0m             \u001b[0;32mif\u001b[0m \u001b[0mis_integer\u001b[0m\u001b[0;34m(\u001b[0m\u001b[0mindexer\u001b[0m\u001b[0;34m)\u001b[0m\u001b[0;34m:\u001b[0m\u001b[0;34m\u001b[0m\u001b[0;34m\u001b[0m\u001b[0m\n\u001b[1;32m   3460\u001b[0m                 \u001b[0mindexer\u001b[0m \u001b[0;34m=\u001b[0m \u001b[0;34m[\u001b[0m\u001b[0mindexer\u001b[0m\u001b[0;34m]\u001b[0m\u001b[0;34m\u001b[0m\u001b[0;34m\u001b[0m\u001b[0m\n",
      "\u001b[0;32m~/conda/envs/python/lib/python3.7/site-packages/pandas/core/indexes/base.py\u001b[0m in \u001b[0;36mget_loc\u001b[0;34m(self, key, method, tolerance)\u001b[0m\n\u001b[1;32m   3361\u001b[0m                 \u001b[0;32mreturn\u001b[0m \u001b[0mself\u001b[0m\u001b[0;34m.\u001b[0m\u001b[0m_engine\u001b[0m\u001b[0;34m.\u001b[0m\u001b[0mget_loc\u001b[0m\u001b[0;34m(\u001b[0m\u001b[0mcasted_key\u001b[0m\u001b[0;34m)\u001b[0m\u001b[0;34m\u001b[0m\u001b[0;34m\u001b[0m\u001b[0m\n\u001b[1;32m   3362\u001b[0m             \u001b[0;32mexcept\u001b[0m \u001b[0mKeyError\u001b[0m \u001b[0;32mas\u001b[0m \u001b[0merr\u001b[0m\u001b[0;34m:\u001b[0m\u001b[0;34m\u001b[0m\u001b[0;34m\u001b[0m\u001b[0m\n\u001b[0;32m-> 3363\u001b[0;31m                 \u001b[0;32mraise\u001b[0m \u001b[0mKeyError\u001b[0m\u001b[0;34m(\u001b[0m\u001b[0mkey\u001b[0m\u001b[0;34m)\u001b[0m \u001b[0;32mfrom\u001b[0m \u001b[0merr\u001b[0m\u001b[0;34m\u001b[0m\u001b[0;34m\u001b[0m\u001b[0m\n\u001b[0m\u001b[1;32m   3364\u001b[0m \u001b[0;34m\u001b[0m\u001b[0m\n\u001b[1;32m   3365\u001b[0m         \u001b[0;32mif\u001b[0m \u001b[0mis_scalar\u001b[0m\u001b[0;34m(\u001b[0m\u001b[0mkey\u001b[0m\u001b[0;34m)\u001b[0m \u001b[0;32mand\u001b[0m \u001b[0misna\u001b[0m\u001b[0;34m(\u001b[0m\u001b[0mkey\u001b[0m\u001b[0;34m)\u001b[0m \u001b[0;32mand\u001b[0m \u001b[0;32mnot\u001b[0m \u001b[0mself\u001b[0m\u001b[0;34m.\u001b[0m\u001b[0mhasnans\u001b[0m\u001b[0;34m:\u001b[0m\u001b[0;34m\u001b[0m\u001b[0;34m\u001b[0m\u001b[0m\n",
      "\u001b[0;31mKeyError\u001b[0m: 'flight_number'"
     ]
    }
   ],
   "source": [
    "# Construct the launch_dict\n",
    "launch_dict = {\n",
    "    'FlightNumber': list(data['flight_number']),  # Replace 'flight_number' with the actual column name in your DataFrame\n",
    "    'Date': list(data['date']),\n",
    "    'BoosterVersion': BoosterVersion,  # Replace 'BoosterVersion' with the actual data for booster version\n",
    "    'PayloadMass': PayloadMass,  # Replace 'PayloadMass' with the actual data for payload mass\n",
    "    'Orbit': Orbit,  # Replace 'Orbit' with the actual data for orbit\n",
    "    'LaunchSite': LaunchSite,  # Replace 'LaunchSite' with the actual data for launch site\n",
    "    'Outcome': Outcome,  # Replace 'Outcome' with the actual data for launch outcome\n",
    "    'Flights': Flights,  # Replace 'Flights' with the actual data for number of flights\n",
    "    'GridFins': GridFins,  # Replace 'GridFins' with the actual data for grid fins\n",
    "    'Reused': Reused,  # Replace 'Reused' with the actual data for reuse status\n",
    "    'Legs': Legs,  # Replace 'Legs' with the actual data for legs\n",
    "    'LandingPad': LandingPad,  # Replace 'LandingPad' with the actual data for landing pad\n",
    "    'Block': Block,  # Replace 'Block' with the actual data for block\n",
    "    'ReusedCount': ReusedCount,  # Replace 'ReusedCount' with the actual data for number of reuses\n",
    "    'Serial': Serial,  # Replace 'Serial' with the actual data for serial number\n",
    "    'Longitude': Longitude,  # Replace 'Longitude' with the actual data for longitude\n",
    "    'Latitude': Latitude  # Replace 'Latitude' with the actual data for latitude\n",
    "}\n"
   ]
  },
  {
   "cell_type": "markdown",
   "metadata": {},
   "source": [
    "Then, we need to create a Pandas data frame from the dictionary launch_dict.\n"
   ]
  },
  {
   "cell_type": "code",
   "execution_count": 25,
   "metadata": {
    "tags": []
   },
   "outputs": [
    {
     "ename": "NameError",
     "evalue": "name 'launch_dict' is not defined",
     "output_type": "error",
     "traceback": [
      "\u001b[0;31m---------------------------------------------------------------------------\u001b[0m",
      "\u001b[0;31mNameError\u001b[0m                                 Traceback (most recent call last)",
      "\u001b[0;32m/tmp/ipykernel_68/3741660971.py\u001b[0m in \u001b[0;36m<module>\u001b[0;34m\u001b[0m\n\u001b[1;32m      4\u001b[0m \u001b[0;34m\u001b[0m\u001b[0m\n\u001b[1;32m      5\u001b[0m \u001b[0;31m# Create a DataFrame from launch_dict\u001b[0m\u001b[0;34m\u001b[0m\u001b[0;34m\u001b[0m\u001b[0;34m\u001b[0m\u001b[0m\n\u001b[0;32m----> 6\u001b[0;31m \u001b[0mlaunch_df\u001b[0m \u001b[0;34m=\u001b[0m \u001b[0mpd\u001b[0m\u001b[0;34m.\u001b[0m\u001b[0mDataFrame\u001b[0m\u001b[0;34m(\u001b[0m\u001b[0mlaunch_dict\u001b[0m\u001b[0;34m)\u001b[0m\u001b[0;34m\u001b[0m\u001b[0;34m\u001b[0m\u001b[0m\n\u001b[0m\u001b[1;32m      7\u001b[0m \u001b[0;34m\u001b[0m\u001b[0m\n\u001b[1;32m      8\u001b[0m \u001b[0;31m# Display the DataFrame\u001b[0m\u001b[0;34m\u001b[0m\u001b[0;34m\u001b[0m\u001b[0;34m\u001b[0m\u001b[0m\n",
      "\u001b[0;31mNameError\u001b[0m: name 'launch_dict' is not defined"
     ]
    }
   ],
   "source": [
    "import pandas as pd\n",
    "\n",
    "# Assuming launch_dict has been defined previously\n",
    "\n",
    "# Create a DataFrame from launch_dict\n",
    "launch_df = pd.DataFrame(launch_dict)\n",
    "\n",
    "# Display the DataFrame\n",
    "print(launch_df.head())\n",
    "\n"
   ]
  },
  {
   "cell_type": "markdown",
   "metadata": {},
   "source": [
    "Show the summary of the dataframe\n"
   ]
  },
  {
   "cell_type": "code",
   "execution_count": 26,
   "metadata": {
    "tags": []
   },
   "outputs": [
    {
     "ename": "NameError",
     "evalue": "name 'launch_df' is not defined",
     "output_type": "error",
     "traceback": [
      "\u001b[0;31m---------------------------------------------------------------------------\u001b[0m",
      "\u001b[0;31mNameError\u001b[0m                                 Traceback (most recent call last)",
      "\u001b[0;32m/tmp/ipykernel_68/3335187907.py\u001b[0m in \u001b[0;36m<module>\u001b[0;34m\u001b[0m\n\u001b[1;32m      1\u001b[0m \u001b[0;31m# Display summary of the DataFrame\u001b[0m\u001b[0;34m\u001b[0m\u001b[0;34m\u001b[0m\u001b[0;34m\u001b[0m\u001b[0m\n\u001b[0;32m----> 2\u001b[0;31m \u001b[0mprint\u001b[0m\u001b[0;34m(\u001b[0m\u001b[0mlaunch_df\u001b[0m\u001b[0;34m.\u001b[0m\u001b[0minfo\u001b[0m\u001b[0;34m(\u001b[0m\u001b[0;34m)\u001b[0m\u001b[0;34m)\u001b[0m\u001b[0;34m\u001b[0m\u001b[0;34m\u001b[0m\u001b[0m\n\u001b[0m",
      "\u001b[0;31mNameError\u001b[0m: name 'launch_df' is not defined"
     ]
    }
   ],
   "source": [
    "# Display summary of the DataFrame\n",
    "print(launch_df.info())\n"
   ]
  },
  {
   "cell_type": "markdown",
   "metadata": {},
   "source": [
    "### Task 2: Filter the dataframe to only include `Falcon 9` launches\n"
   ]
  },
  {
   "cell_type": "markdown",
   "metadata": {},
   "source": [
    "Finally we will remove the Falcon 1 launches keeping only the Falcon 9 launches. Filter the data dataframe using the <code>BoosterVersion</code> column to only keep the Falcon 9 launches. Save the filtered data to a new dataframe called <code>data_falcon9</code>.\n"
   ]
  },
  {
   "cell_type": "code",
   "execution_count": 27,
   "metadata": {
    "tags": []
   },
   "outputs": [],
   "source": [
    "# Hint data['BoosterVersion']!='Falcon 1'\n"
   ]
  },
  {
   "cell_type": "markdown",
   "metadata": {},
   "source": [
    "Now that we have removed some values we should reset the FlgihtNumber column\n"
   ]
  },
  {
   "cell_type": "code",
   "execution_count": 30,
   "metadata": {
    "tags": []
   },
   "outputs": [
    {
     "ename": "NameError",
     "evalue": "name 'data_falcon9' is not defined",
     "output_type": "error",
     "traceback": [
      "\u001b[0;31m---------------------------------------------------------------------------\u001b[0m",
      "\u001b[0;31mNameError\u001b[0m                                 Traceback (most recent call last)",
      "\u001b[0;32m/tmp/ipykernel_68/910120962.py\u001b[0m in \u001b[0;36m<module>\u001b[0;34m\u001b[0m\n\u001b[0;32m----> 1\u001b[0;31m \u001b[0mdata_falcon9\u001b[0m\u001b[0;34m.\u001b[0m\u001b[0mloc\u001b[0m\u001b[0;34m[\u001b[0m\u001b[0;34m:\u001b[0m\u001b[0;34m,\u001b[0m \u001b[0;34m'FlightNumber'\u001b[0m\u001b[0;34m]\u001b[0m \u001b[0;34m=\u001b[0m \u001b[0mlist\u001b[0m\u001b[0;34m(\u001b[0m\u001b[0mrange\u001b[0m\u001b[0;34m(\u001b[0m\u001b[0;36m1\u001b[0m\u001b[0;34m,\u001b[0m \u001b[0mdata_falcon9\u001b[0m\u001b[0;34m.\u001b[0m\u001b[0mshape\u001b[0m\u001b[0;34m[\u001b[0m\u001b[0;36m0\u001b[0m\u001b[0;34m]\u001b[0m \u001b[0;34m+\u001b[0m \u001b[0;36m1\u001b[0m\u001b[0;34m)\u001b[0m\u001b[0;34m)\u001b[0m\u001b[0;34m\u001b[0m\u001b[0;34m\u001b[0m\u001b[0m\n\u001b[0m",
      "\u001b[0;31mNameError\u001b[0m: name 'data_falcon9' is not defined"
     ]
    }
   ],
   "source": [
    "data_falcon9.loc[:, 'FlightNumber'] = list(range(1, data_falcon9.shape[0] + 1))\n"
   ]
  },
  {
   "cell_type": "markdown",
   "metadata": {},
   "source": [
    "## Data Wrangling\n"
   ]
  },
  {
   "cell_type": "markdown",
   "metadata": {},
   "source": [
    "We can see below that some of the rows are missing values in our dataset.\n"
   ]
  },
  {
   "cell_type": "code",
   "execution_count": null,
   "metadata": {},
   "outputs": [],
   "source": [
    "data_falcon9.isnull().sum()"
   ]
  },
  {
   "cell_type": "markdown",
   "metadata": {},
   "source": [
    "Before we can continue we must deal with these missing values. The <code>LandingPad</code> column will retain None values to represent when landing pads were not used.\n"
   ]
  },
  {
   "cell_type": "markdown",
   "metadata": {},
   "source": [
    "### Task 3: Dealing with Missing Values\n"
   ]
  },
  {
   "cell_type": "markdown",
   "metadata": {},
   "source": [
    "Calculate below the mean for the <code>PayloadMass</code> using the <code>.mean()</code>. Then use the mean and the <code>.replace()</code> function to replace `np.nan` values in the data with the mean you calculated.\n"
   ]
  },
  {
   "cell_type": "code",
   "execution_count": null,
   "metadata": {},
   "outputs": [],
   "source": [
    "# Calculate the mean value of PayloadMass column\n",
    "\n",
    "# Replace the np.nan values with its mean value"
   ]
  },
  {
   "cell_type": "markdown",
   "metadata": {},
   "source": [
    "You should see the number of missing values of the <code>PayLoadMass</code> change to zero.\n"
   ]
  },
  {
   "cell_type": "markdown",
   "metadata": {},
   "source": [
    "Now we should have no missing values in our dataset except for in <code>LandingPad</code>.\n"
   ]
  },
  {
   "cell_type": "markdown",
   "metadata": {},
   "source": [
    "We can now export it to a <b>CSV</b> for the next section,but to make the answers consistent, in the next lab we will provide data in a pre-selected date range. \n"
   ]
  },
  {
   "cell_type": "markdown",
   "metadata": {},
   "source": [
    "<code>data_falcon9.to_csv('dataset_part_1.csv', index=False)</code>\n"
   ]
  },
  {
   "cell_type": "markdown",
   "metadata": {},
   "source": [
    "## Authors\n"
   ]
  },
  {
   "cell_type": "markdown",
   "metadata": {},
   "source": [
    "<a href=\"https://www.linkedin.com/in/joseph-s-50398b136/?utm_medium=Exinfluencer&utm_source=Exinfluencer&utm_content=000026UJ&utm_term=10006555&utm_id=NA-SkillsNetwork-Channel-SkillsNetworkCoursesIBMDS0321ENSkillsNetwork865-2022-01-01\">Joseph Santarcangelo</a> has a PhD in Electrical Engineering, his research focused on using machine learning, signal processing, and computer vision to determine how videos impact human cognition. Joseph has been working for IBM since he completed his PhD. \n"
   ]
  },
  {
   "cell_type": "markdown",
   "metadata": {},
   "source": [
    "## Change Log\n"
   ]
  },
  {
   "cell_type": "markdown",
   "metadata": {},
   "source": [
    "|Date (YYYY-MM-DD)|Version|Changed By|Change Description|\n",
    "|-|-|-|-|\n",
    "|2020-09-20|1.1|Joseph|get result each time you run|\n",
    "|2020-09-20|1.1|Azim |Created Part 1 Lab using SpaceX API|\n",
    "|2020-09-20|1.0|Joseph |Modified Multiple Areas|\n"
   ]
  },
  {
   "cell_type": "markdown",
   "metadata": {},
   "source": [
    "Copyright © 2021 IBM Corporation. All rights reserved.\n"
   ]
  }
 ],
 "metadata": {
  "kernelspec": {
   "display_name": "Python",
   "language": "python",
   "name": "conda-env-python-py"
  },
  "language_info": {
   "codemirror_mode": {
    "name": "ipython",
    "version": 3
   },
   "file_extension": ".py",
   "mimetype": "text/x-python",
   "name": "python",
   "nbconvert_exporter": "python",
   "pygments_lexer": "ipython3",
   "version": "3.7.12"
  }
 },
 "nbformat": 4,
 "nbformat_minor": 4
}
